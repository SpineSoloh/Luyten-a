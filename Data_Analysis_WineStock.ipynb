{
  "nbformat": 4,
  "nbformat_minor": 0,
  "metadata": {
    "colab": {
      "provenance": [],
      "toc_visible": true,
      "authorship_tag": "ABX9TyOQrL8gqIviO3ZsJ7PdhdEG",
      "include_colab_link": true
    },
    "kernelspec": {
      "name": "python3",
      "display_name": "Python 3"
    },
    "language_info": {
      "name": "python"
    }
  },
  "cells": [
    {
      "cell_type": "markdown",
      "metadata": {
        "id": "view-in-github",
        "colab_type": "text"
      },
      "source": [
        "<a href=\"https://colab.research.google.com/github/SpineSoloh/Luyten-a/blob/main/Data_Analysis_WineStock.ipynb\" target=\"_parent\"><img src=\"https://colab.research.google.com/assets/colab-badge.svg\" alt=\"Open In Colab\"/></a>"
      ]
    },
    {
      "cell_type": "code",
      "execution_count": 3,
      "metadata": {
        "colab": {
          "base_uri": "https://localhost:8080/"
        },
        "id": "qqz8NF9MhUBM",
        "outputId": "dac6a724-91c1-4985-d011-a195352cf000"
      },
      "outputs": [
        {
          "output_type": "stream",
          "name": "stdout",
          "text": [
            "Adjusted R-squared: 0.7638129478416466\n"
          ]
        }
      ],
      "source": [
        "import pandas as pd\n",
        "import numpy as np\n",
        "import statsmodels.api as sm\n",
        "\n",
        "# Load the dataset\n",
        "data = {\n",
        "    'Year': [1952, 1953, 1955, 1957, 1958, 1959, 1960, 1961, 1962, 1963, 1964, 1965, 1966, 1967, 1968, 1969, 1970, 1971, 1972, 1973, 1974, 1975, 1976, 1977, 1978],\n",
        "    'Price': [7.495, 8.0393, 7.6858, 6.9845, 6.7772, 8.0757, 6.5188, 8.4937, 7.388, 6.7127, 7.3094, 6.2518, 7.7443, 6.8398, 6.2435, 6.3459, 7.5883, 7.1934, 6.2049, 6.6367, 6.2941, 7.292, 7.1211, 6.2587, 7.186],\n",
        "    'WinterRain': [600, 690, 502, 420, 582, 485, 763, 830, 697, 608, 402, 602, 819, 714, 610, 575, 622, 551, 536, 376, 574, 572, 418, 821, 763],\n",
        "    'AGST': [17.1167, 16.7333, 17.15, 16.1333, 16.4167, 17.4833, 16.4167, 17.3333, 16.3, 15.7167, 17.2667, 15.3667, 16.5333, 16.2333, 16.2, 16.55, 16.6667, 16.7667, 14.9833, 17.0667, 16.3, 16.95, 17.65, 15.5833, 15.8167],\n",
        "    'HarvestRain': [160, 80, 130, 110, 187, 187, 290, 38, 52, 155, 96, 267, 86, 118, 292, 244, 89, 112, 158, 123, 184, 171, 247, 87, 51],\n",
        "    'Age': [31, 30, 28, 26, 25, 24, 23, 22, 21, 20, 19, 18, 17, 16, 15, 14, 13, 12, 11, 10, 9, 8, 7, 6, 5],\n",
        "    'FrancePop': [43183.569, 43495.03, 44217.857, 45152.252, 45653.805, 46128.638, 46583.995, 47128.005, 48088.673, 48798.99, 49356.943, 49801.821, 50254.966, 50650.406, 51034.413, 51470.276, 51918.389, 52431.647, 52894.183, 53332.805, 53689.61, 53955.042, 54159.049, 54378.362, 54602.193]\n",
        "}\n",
        "\n",
        "df = pd.DataFrame(data)\n",
        "\n",
        "print(\"Adjusted R-squared:\", final_model.rsquared_adj)\n",
        "\n"
      ]
    },
    {
      "cell_type": "code",
      "source": [
        "# Calculating Adjusted R-squared value\n",
        "adjusted_r_squared = final_model.rsquared_adj\n",
        "print(\"Adjusted R-squared:\", adjusted_r_squared)\n"
      ],
      "metadata": {
        "colab": {
          "base_uri": "https://localhost:8080/"
        },
        "id": "DgzfSwvNkDVL",
        "outputId": "32b85e5d-3406-424e-b53d-eb1ccb7d6782"
      },
      "execution_count": 4,
      "outputs": [
        {
          "output_type": "stream",
          "name": "stdout",
          "text": [
            "Adjusted R-squared: 0.7638129478416466\n"
          ]
        }
      ]
    },
    {
      "cell_type": "code",
      "source": [
        "# Extracting coefficients (Beta values)\n",
        "coefficients = final_model.params.drop('const')  # Dropping the intercept term\n",
        "print(\"Coefficients (Beta values) for each independent variable:\")\n",
        "print(coefficients)"
      ],
      "metadata": {
        "colab": {
          "base_uri": "https://localhost:8080/"
        },
        "id": "jMqVxAy3kQ2a",
        "outputId": "f45788c1-da37-4266-9e00-7e13649d3320"
      },
      "execution_count": 5,
      "outputs": [
        {
          "output_type": "stream",
          "name": "stdout",
          "text": [
            "Coefficients (Beta values) for each independent variable:\n",
            "AGST           0.527302\n",
            "HarvestRain   -0.004505\n",
            "FrancePop     -0.000054\n",
            "dtype: float64\n"
          ]
        }
      ]
    },
    {
      "cell_type": "code",
      "source": [
        "# Extracting standard errors for each coefficient\n",
        "standard_errors = final_model.bse.drop('const')  # Dropping the intercept term\n",
        "print(\"Standard Errors for each coefficient:\")\n",
        "print(standard_errors)"
      ],
      "metadata": {
        "colab": {
          "base_uri": "https://localhost:8080/"
        },
        "id": "7wUhZfa7kd_c",
        "outputId": "de9dead7-f30f-4e39-ad9c-ca3c0d91385a"
      },
      "execution_count": 6,
      "outputs": [
        {
          "output_type": "stream",
          "name": "stdout",
          "text": [
            "Standard Errors for each coefficient:\n",
            "AGST           0.099055\n",
            "HarvestRain    0.000869\n",
            "FrancePop      0.000018\n",
            "dtype: float64\n"
          ]
        }
      ]
    },
    {
      "cell_type": "code",
      "source": [
        "# Next is Extracting t-values and p-values for each coefficient\n",
        "t_values = final_model.tvalues.drop('const')  # Dropping the intercept term\n",
        "p_values = final_model.pvalues.drop('const')  # Dropping the intercept term\n",
        "\n",
        "print(\"t-Values for each coefficient:\")\n",
        "print(t_values)\n",
        "print(\"\\n\")\n",
        "print(\"p-Values for each coefficient:\")\n",
        "print(p_values)"
      ],
      "metadata": {
        "colab": {
          "base_uri": "https://localhost:8080/"
        },
        "id": "TpuvdZAakq5V",
        "outputId": "5fa99f57-a7bd-466e-ae24-294dbb08b477"
      },
      "execution_count": 7,
      "outputs": [
        {
          "output_type": "stream",
          "name": "stdout",
          "text": [
            "t-Values for each coefficient:\n",
            "AGST           5.323303\n",
            "HarvestRain   -5.183662\n",
            "FrancePop     -2.955560\n",
            "dtype: float64\n",
            "\n",
            "\n",
            "p-Values for each coefficient:\n",
            "AGST           0.000028\n",
            "HarvestRain    0.000039\n",
            "FrancePop      0.007550\n",
            "dtype: float64\n"
          ]
        }
      ]
    },
    {
      "cell_type": "code",
      "source": [
        "# Now we F-statistic and Prob (F-statistic)\n",
        "f_statistic = final_model.fvalue\n",
        "prob_f_statistic = final_model.f_pvalue\n",
        "\n",
        "print(\"F-statistic:\", f_statistic)\n",
        "print(\"Prob (F-statistic):\", prob_f_statistic)"
      ],
      "metadata": {
        "colab": {
          "base_uri": "https://localhost:8080/"
        },
        "id": "UDGSoTXokzeE",
        "outputId": "96363f3a-2960-48a9-d08f-b15dd8b42f2b"
      },
      "execution_count": 10,
      "outputs": [
        {
          "output_type": "stream",
          "name": "stdout",
          "text": [
            "F-statistic: 26.87145877343157\n",
            "Prob (F-statistic): 2.2025659494719297e-07\n"
          ]
        }
      ]
    },
    {
      "cell_type": "code",
      "source": [
        "# We are Extracting AIC and BIC values\n",
        "aic = final_model.aic\n",
        "bic = final_model.bic\n",
        "\n",
        "print(\"AIC:\", aic)\n",
        "print(\"BIC:\", bic)\n"
      ],
      "metadata": {
        "colab": {
          "base_uri": "https://localhost:8080/"
        },
        "id": "X8X1txSplqDw",
        "outputId": "f869f8be-d1e9-4e30-ec5f-02bf9f2bf01c"
      },
      "execution_count": 13,
      "outputs": [
        {
          "output_type": "stream",
          "name": "stdout",
          "text": [
            "AIC: 16.996879713429976\n",
            "BIC: 21.87238301290278\n"
          ]
        }
      ]
    }
  ]
}