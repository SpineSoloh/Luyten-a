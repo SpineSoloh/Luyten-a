{
  "nbformat": 4,
  "nbformat_minor": 0,
  "metadata": {
    "colab": {
      "provenance": [],
      "mount_file_id": "1vg87irbERUdSteSpQ9pDTJOx_s61EeR2",
      "authorship_tag": "ABX9TyNUiIVytoZEAbLwkgKrNg7Q",
      "include_colab_link": true
    },
    "kernelspec": {
      "name": "python3",
      "display_name": "Python 3"
    },
    "language_info": {
      "name": "python"
    }
  },
  "cells": [
    {
      "cell_type": "markdown",
      "metadata": {
        "id": "view-in-github",
        "colab_type": "text"
      },
      "source": [
        "<a href=\"https://colab.research.google.com/github/SpineSoloh/Luyten-a/blob/main/Car_Data.ipynb\" target=\"_parent\"><img src=\"https://colab.research.google.com/assets/colab-badge.svg\" alt=\"Open In Colab\"/></a>"
      ]
    },
    {
      "cell_type": "code",
      "execution_count": null,
      "metadata": {
        "id": "VTXEZrk1T2ck"
      },
      "outputs": [],
      "source": [
        "import pandas as pd\n",
        "import numpy as np\n",
        "from sklearn.model_selection import train_test_split\n",
        "from sklearn.linear_model import LinearRegression\n",
        "from sklearn.preprocessing import LabelEncoder\n",
        "from sklearn.metrics import mean_squared_error\n",
        "from sklearn.metrics import mean_absolute_error\n",
        "from sklearn.metrics import r2_score\n",
        "import matplotlib.pyplot as plt"
      ]
    },
    {
      "cell_type": "markdown",
      "source": [
        "# importing dataframe"
      ],
      "metadata": {
        "id": "07IfPE2HUtUM"
      }
    },
    {
      "cell_type": "code",
      "source": [
        "C_Data = pd.read_csv('Car-Data.csv')"
      ],
      "metadata": {
        "id": "giDqICPBU52k"
      },
      "execution_count": null,
      "outputs": []
    },
    {
      "cell_type": "markdown",
      "source": [
        "# Describing the dataframe"
      ],
      "metadata": {
        "id": "RVbH_ThjVd8T"
      }
    },
    {
      "cell_type": "code",
      "source": [
        "print(C_Data.describe())\n",
        "print(C_Data.shape)\n",
        "print(C_Data.head())"
      ],
      "metadata": {
        "colab": {
          "base_uri": "https://localhost:8080/"
        },
        "id": "0vVqGlx_VizN",
        "outputId": "711f5a66-1129-4060-d513-fa6872dc25eb"
      },
      "execution_count": null,
      "outputs": [
        {
          "output_type": "stream",
          "name": "stdout",
          "text": [
            "           car_ID   symboling   wheelbase   carlength    carwidth   carheight  \\\n",
            "count  205.000000  205.000000  205.000000  205.000000  205.000000  205.000000   \n",
            "mean   103.000000    0.834146   98.756585  174.049268   65.907805   53.724878   \n",
            "std     59.322565    1.245307    6.021776   12.337289    2.145204    2.443522   \n",
            "min      1.000000   -2.000000   86.600000  141.100000   60.300000   47.800000   \n",
            "25%     52.000000    0.000000   94.500000  166.300000   64.100000   52.000000   \n",
            "50%    103.000000    1.000000   97.000000  173.200000   65.500000   54.100000   \n",
            "75%    154.000000    2.000000  102.400000  183.100000   66.900000   55.500000   \n",
            "max    205.000000    3.000000  120.900000  208.100000   72.300000   59.800000   \n",
            "\n",
            "        curbweight  enginesize   boreratio      stroke  compressionratio  \\\n",
            "count   205.000000  205.000000  205.000000  205.000000        205.000000   \n",
            "mean   2555.565854  126.907317    3.329756    3.255415         10.142537   \n",
            "std     520.680204   41.642693    0.270844    0.313597          3.972040   \n",
            "min    1488.000000   61.000000    2.540000    2.070000          7.000000   \n",
            "25%    2145.000000   97.000000    3.150000    3.110000          8.600000   \n",
            "50%    2414.000000  120.000000    3.310000    3.290000          9.000000   \n",
            "75%    2935.000000  141.000000    3.580000    3.410000          9.400000   \n",
            "max    4066.000000  326.000000    3.940000    4.170000         23.000000   \n",
            "\n",
            "       horsepower      peakrpm     citympg  highwaympg         price  \n",
            "count  205.000000   205.000000  205.000000  205.000000    205.000000  \n",
            "mean   104.117073  5125.121951   25.219512   30.751220  13276.710571  \n",
            "std     39.544167   476.985643    6.542142    6.886443   7988.852332  \n",
            "min     48.000000  4150.000000   13.000000   16.000000   5118.000000  \n",
            "25%     70.000000  4800.000000   19.000000   25.000000   7788.000000  \n",
            "50%     95.000000  5200.000000   24.000000   30.000000  10295.000000  \n",
            "75%    116.000000  5500.000000   30.000000   34.000000  16503.000000  \n",
            "max    288.000000  6600.000000   49.000000   54.000000  45400.000000  \n",
            "(205, 26)\n",
            "   car_ID  symboling                   CarName fueltype aspiration doornumber  \\\n",
            "0       1          3        alfa-romero giulia      gas        std        two   \n",
            "1       2          3       alfa-romero stelvio      gas        std        two   \n",
            "2       3          1  alfa-romero Quadrifoglio      gas        std        two   \n",
            "3       4          2               audi 100 ls      gas        std       four   \n",
            "4       5          2                audi 100ls      gas        std       four   \n",
            "\n",
            "       carbody drivewheel enginelocation  wheelbase  ...  enginesize  \\\n",
            "0  convertible        rwd          front       88.6  ...         130   \n",
            "1  convertible        rwd          front       88.6  ...         130   \n",
            "2    hatchback        rwd          front       94.5  ...         152   \n",
            "3        sedan        fwd          front       99.8  ...         109   \n",
            "4        sedan        4wd          front       99.4  ...         136   \n",
            "\n",
            "   fuelsystem  boreratio  stroke compressionratio horsepower  peakrpm citympg  \\\n",
            "0        mpfi       3.47    2.68              9.0        111     5000      21   \n",
            "1        mpfi       3.47    2.68              9.0        111     5000      21   \n",
            "2        mpfi       2.68    3.47              9.0        154     5000      19   \n",
            "3        mpfi       3.19    3.40             10.0        102     5500      24   \n",
            "4        mpfi       3.19    3.40              8.0        115     5500      18   \n",
            "\n",
            "   highwaympg    price  \n",
            "0          27  13495.0  \n",
            "1          27  16500.0  \n",
            "2          26  16500.0  \n",
            "3          30  13950.0  \n",
            "4          22  17450.0  \n",
            "\n",
            "[5 rows x 26 columns]\n"
          ]
        }
      ]
    },
    {
      "cell_type": "markdown",
      "source": [
        "# Cleaning Data"
      ],
      "metadata": {
        "id": "Z7CQcBMdVpzE"
      }
    },
    {
      "cell_type": "code",
      "source": [
        "print(C_Data.isnull()) # finding and replacing null value\n",
        "print(C_Data.isnull().sum())\n",
        "print(C_Data.isnull().sum().sum())"
      ],
      "metadata": {
        "colab": {
          "base_uri": "https://localhost:8080/"
        },
        "id": "u78jQxfMVvAW",
        "outputId": "ce613c95-0b80-4955-8308-dc9aee6154c1"
      },
      "execution_count": null,
      "outputs": [
        {
          "output_type": "stream",
          "name": "stdout",
          "text": [
            "     car_ID  symboling  CarName  fueltype  aspiration  doornumber  carbody  \\\n",
            "0     False      False    False     False       False       False    False   \n",
            "1     False      False    False     False       False       False    False   \n",
            "2     False      False    False     False       False       False    False   \n",
            "3     False      False    False     False       False       False    False   \n",
            "4     False      False    False     False       False       False    False   \n",
            "..      ...        ...      ...       ...         ...         ...      ...   \n",
            "200   False      False    False     False       False       False    False   \n",
            "201   False      False    False     False       False       False    False   \n",
            "202   False      False    False     False       False       False    False   \n",
            "203   False      False    False     False       False       False    False   \n",
            "204   False      False    False     False       False       False    False   \n",
            "\n",
            "     drivewheel  enginelocation  wheelbase  ...  enginesize  fuelsystem  \\\n",
            "0         False           False      False  ...       False       False   \n",
            "1         False           False      False  ...       False       False   \n",
            "2         False           False      False  ...       False       False   \n",
            "3         False           False      False  ...       False       False   \n",
            "4         False           False      False  ...       False       False   \n",
            "..          ...             ...        ...  ...         ...         ...   \n",
            "200       False           False      False  ...       False       False   \n",
            "201       False           False      False  ...       False       False   \n",
            "202       False           False      False  ...       False       False   \n",
            "203       False           False      False  ...       False       False   \n",
            "204       False           False      False  ...       False       False   \n",
            "\n",
            "     boreratio  stroke  compressionratio  horsepower  peakrpm  citympg  \\\n",
            "0        False   False             False       False    False    False   \n",
            "1        False   False             False       False    False    False   \n",
            "2        False   False             False       False    False    False   \n",
            "3        False   False             False       False    False    False   \n",
            "4        False   False             False       False    False    False   \n",
            "..         ...     ...               ...         ...      ...      ...   \n",
            "200      False   False             False       False    False    False   \n",
            "201      False   False             False       False    False    False   \n",
            "202      False   False             False       False    False    False   \n",
            "203      False   False             False       False    False    False   \n",
            "204      False   False             False       False    False    False   \n",
            "\n",
            "     highwaympg  price  \n",
            "0         False  False  \n",
            "1         False  False  \n",
            "2         False  False  \n",
            "3         False  False  \n",
            "4         False  False  \n",
            "..          ...    ...  \n",
            "200       False  False  \n",
            "201       False  False  \n",
            "202       False  False  \n",
            "203       False  False  \n",
            "204       False  False  \n",
            "\n",
            "[205 rows x 26 columns]\n",
            "car_ID              0\n",
            "symboling           0\n",
            "CarName             0\n",
            "fueltype            0\n",
            "aspiration          0\n",
            "doornumber          0\n",
            "carbody             0\n",
            "drivewheel          0\n",
            "enginelocation      0\n",
            "wheelbase           0\n",
            "carlength           0\n",
            "carwidth            0\n",
            "carheight           0\n",
            "curbweight          0\n",
            "enginetype          0\n",
            "cylindernumber      0\n",
            "enginesize          0\n",
            "fuelsystem          0\n",
            "boreratio           0\n",
            "stroke              0\n",
            "compressionratio    0\n",
            "horsepower          0\n",
            "peakrpm             0\n",
            "citympg             0\n",
            "highwaympg          0\n",
            "price               0\n",
            "dtype: int64\n",
            "0\n"
          ]
        }
      ]
    },
    {
      "cell_type": "code",
      "source": [
        "C_Data2 = (C_Data.fillna(value=0))\n",
        "print(C_Data2)"
      ],
      "metadata": {
        "colab": {
          "base_uri": "https://localhost:8080/"
        },
        "id": "apjHSg27Wp6r",
        "outputId": "e3440b58-6440-4c18-d0a5-5b33ceec05ea"
      },
      "execution_count": null,
      "outputs": [
        {
          "output_type": "stream",
          "name": "stdout",
          "text": [
            "     car_ID  symboling                   CarName fueltype aspiration  \\\n",
            "0         1          3        alfa-romero giulia      gas        std   \n",
            "1         2          3       alfa-romero stelvio      gas        std   \n",
            "2         3          1  alfa-romero Quadrifoglio      gas        std   \n",
            "3         4          2               audi 100 ls      gas        std   \n",
            "4         5          2                audi 100ls      gas        std   \n",
            "..      ...        ...                       ...      ...        ...   \n",
            "200     201         -1           volvo 145e (sw)      gas        std   \n",
            "201     202         -1               volvo 144ea      gas      turbo   \n",
            "202     203         -1               volvo 244dl      gas        std   \n",
            "203     204         -1                 volvo 246   diesel      turbo   \n",
            "204     205         -1               volvo 264gl      gas      turbo   \n",
            "\n",
            "    doornumber      carbody drivewheel enginelocation  wheelbase  ...  \\\n",
            "0          two  convertible        rwd          front       88.6  ...   \n",
            "1          two  convertible        rwd          front       88.6  ...   \n",
            "2          two    hatchback        rwd          front       94.5  ...   \n",
            "3         four        sedan        fwd          front       99.8  ...   \n",
            "4         four        sedan        4wd          front       99.4  ...   \n",
            "..         ...          ...        ...            ...        ...  ...   \n",
            "200       four        sedan        rwd          front      109.1  ...   \n",
            "201       four        sedan        rwd          front      109.1  ...   \n",
            "202       four        sedan        rwd          front      109.1  ...   \n",
            "203       four        sedan        rwd          front      109.1  ...   \n",
            "204       four        sedan        rwd          front      109.1  ...   \n",
            "\n",
            "     enginesize  fuelsystem  boreratio  stroke compressionratio horsepower  \\\n",
            "0           130        mpfi       3.47    2.68              9.0        111   \n",
            "1           130        mpfi       3.47    2.68              9.0        111   \n",
            "2           152        mpfi       2.68    3.47              9.0        154   \n",
            "3           109        mpfi       3.19    3.40             10.0        102   \n",
            "4           136        mpfi       3.19    3.40              8.0        115   \n",
            "..          ...         ...        ...     ...              ...        ...   \n",
            "200         141        mpfi       3.78    3.15              9.5        114   \n",
            "201         141        mpfi       3.78    3.15              8.7        160   \n",
            "202         173        mpfi       3.58    2.87              8.8        134   \n",
            "203         145         idi       3.01    3.40             23.0        106   \n",
            "204         141        mpfi       3.78    3.15              9.5        114   \n",
            "\n",
            "     peakrpm citympg  highwaympg    price  \n",
            "0       5000      21          27  13495.0  \n",
            "1       5000      21          27  16500.0  \n",
            "2       5000      19          26  16500.0  \n",
            "3       5500      24          30  13950.0  \n",
            "4       5500      18          22  17450.0  \n",
            "..       ...     ...         ...      ...  \n",
            "200     5400      23          28  16845.0  \n",
            "201     5300      19          25  19045.0  \n",
            "202     5500      18          23  21485.0  \n",
            "203     4800      26          27  22470.0  \n",
            "204     5400      19          25  22625.0  \n",
            "\n",
            "[205 rows x 26 columns]\n"
          ]
        }
      ]
    },
    {
      "cell_type": "markdown",
      "source": [
        "# Finding duplicated Values"
      ],
      "metadata": {
        "id": "Wd1ekIkdWDdF"
      }
    },
    {
      "cell_type": "code",
      "source": [
        "print(C_Data.duplicated())"
      ],
      "metadata": {
        "colab": {
          "base_uri": "https://localhost:8080/"
        },
        "id": "Nolc7KSeWSPe",
        "outputId": "970d7780-0da7-4561-95b1-97a65459d674"
      },
      "execution_count": null,
      "outputs": [
        {
          "output_type": "stream",
          "name": "stdout",
          "text": [
            "0      False\n",
            "1      False\n",
            "2      False\n",
            "3      False\n",
            "4      False\n",
            "       ...  \n",
            "200    False\n",
            "201    False\n",
            "202    False\n",
            "203    False\n",
            "204    False\n",
            "Length: 205, dtype: bool\n"
          ]
        }
      ]
    },
    {
      "cell_type": "markdown",
      "source": [
        "# extract the input variable (horsepower) and target variable (price)"
      ],
      "metadata": {
        "id": "R37u12L1W5_3"
      }
    },
    {
      "cell_type": "code",
      "source": [
        "X = C_Data[['horsepower']]\n",
        "y = C_Data['price']\n",
        "X_train, X_test, y_train, y_test = train_test_split(X, y, test_size=0.3, random_state=0) # split the data into training and testing sets\n",
        "model = LinearRegression()\n",
        "model.fit(X_train, y_train) # create a linear regression model and fit it to the training data\n",
        "print(\"Intercept coefficient: \", model.intercept_)\n",
        "print(\"Slope coefficient: \", model.coef_[0]) # print the intercept and slope coefficients"
      ],
      "metadata": {
        "colab": {
          "base_uri": "https://localhost:8080/"
        },
        "id": "JBN_z7eGW7ZF",
        "outputId": "21948e69-eef2-4d46-be21-f22e05867711"
      },
      "execution_count": null,
      "outputs": [
        {
          "output_type": "stream",
          "name": "stdout",
          "text": [
            "Intercept coefficient:  -4438.686204910015\n",
            "Slope coefficient:  170.5382744589305\n"
          ]
        }
      ]
    },
    {
      "cell_type": "markdown",
      "source": [
        "# evaluate the model on the test set"
      ],
      "metadata": {
        "id": "U3vQWivzYBb1"
      }
    },
    {
      "cell_type": "code",
      "source": [
        "y_pred = model.predict(X_test)\n",
        "mse = mean_squared_error(y_test, y_pred)\n",
        "r2 = r2_score(y_test, y_pred)\n",
        "print(\"MSE: \", mse)\n",
        "print(\"R2 score: \", r2)"
      ],
      "metadata": {
        "colab": {
          "base_uri": "https://localhost:8080/"
        },
        "id": "z1LHabDTYNzN",
        "outputId": "cfecbf1e-4262-494d-a0fa-6d97dc830dfa"
      },
      "execution_count": null,
      "outputs": [
        {
          "output_type": "stream",
          "name": "stdout",
          "text": [
            "MSE:  25821021.44827711\n",
            "R2 score:  0.6089937976509767\n"
          ]
        }
      ]
    },
    {
      "cell_type": "markdown",
      "source": [
        "# Create a linear regression model and fit it to the training data"
      ],
      "metadata": {
        "id": "aZMs2zR6Y4BN"
      }
    },
    {
      "cell_type": "code",
      "source": [
        "y_pred = model.predict(X_test) # Make predictions on the test set\n",
        "plt.plot(y_test, y_pred, 'o') # Ploting the actual vs predicted prices for each car in the test set\n",
        "plt.xlabel(\"Actual Price\")\n",
        "plt.ylabel(\"Predicted Price\")\n",
        "plt.title(\"Actual vs Predicted Prices (Test Set)\")\n",
        "plt.show()"
      ],
      "metadata": {
        "colab": {
          "base_uri": "https://localhost:8080/",
          "height": 472
        },
        "id": "8PyTWDpXY5c2",
        "outputId": "51c3e602-7cb0-4d1b-dce1-7582ca2f737b"
      },
      "execution_count": null,
      "outputs": [
        {
          "output_type": "display_data",
          "data": {
            "text/plain": [
              "<Figure size 640x480 with 1 Axes>"
            ],
            "image/png": "[encoded data removed]"
          },
          "metadata": {}
        }
      ]
    },
    {
      "cell_type": "markdown",
      "source": [
        "# Calculate the standardized errors and Creating an histogram of the standardized errors"
      ],
      "metadata": {
        "id": "qrrodTMCaokT"
      }
    },
    {
      "cell_type": "code",
      "source": [
        "std_errors = (errors - np.mean(errors)) / np.std(errors)\n",
        "plt.hist(std_errors, bins=20)\n",
        "plt.xlabel(\"Standardized Error\")\n",
        "plt.ylabel(\"Frequency\")\n",
        "plt.title(\"Histogram of Standardized Errors\")\n",
        "plt.show()"
      ],
      "metadata": {
        "colab": {
          "base_uri": "https://localhost:8080/",
          "height": 472
        },
        "id": "nCOEVA_7ap4-",
        "outputId": "d3600e79-02f1-4bf0-e77f-755f2fe73f72"
      },
      "execution_count": null,
      "outputs": [
        {
          "output_type": "display_data",
          "data": {
            "text/plain": [
              "<Figure size 640x480 with 1 Axes>"
            ],
            "image/png": "[encoded data removed]"
          },
          "metadata": {}
        }
      ]
    }
  ]
}