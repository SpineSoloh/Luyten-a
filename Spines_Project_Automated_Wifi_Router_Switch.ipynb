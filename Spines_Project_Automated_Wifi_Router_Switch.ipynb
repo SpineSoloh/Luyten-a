{
  "cells": [
    {
      "cell_type": "markdown",
      "metadata": {
        "id": "view-in-github",
        "colab_type": "text"
      },
      "source": [
        "<a href=\"https://colab.research.google.com/github/SpineSoloh/Luyten-a/blob/main/Spines_Project_Automated_Wifi_Router_Switch.ipynb\" target=\"_parent\"><img src=\"https://colab.research.google.com/assets/colab-badge.svg\" alt=\"Open In Colab\"/></a>"
      ]
    },
    {
      "cell_type": "code",
      "execution_count": null,
      "metadata": {
        "id": "56rRcdaQe8zG"
      },
      "outputs": [],
      "source": [
        "import time"
      ]
    },
    {
      "cell_type": "markdown",
      "metadata": {
        "id": "EzOI6mI4fM-s"
      },
      "source": [
        "Checking Router Availability\n",
        "Replace with your actual implementation to check data availability on the router\n",
        "Simulating data availability check"
      ]
    },
    {
      "cell_type": "code",
      "execution_count": null,
      "metadata": {
        "id": "wEih2zEIfQ4z"
      },
      "outputs": [],
      "source": [
        "def check_router_data(router_ip):\n",
        "  if router_ip == '192.168.1.1':\n",
        "    return True\n",
        "  elif router_ip == '192.168.2.1':\n",
        "        return False"
      ]
    },
    {
      "cell_type": "markdown",
      "metadata": {
        "id": "vRt_DYJmgI4u"
      },
      "source": [
        "Switching Device Connection to Router"
      ]
    },
    {
      "cell_type": "code",
      "execution_count": null,
      "metadata": {
        "id": "001F3bKngNeX"
      },
      "outputs": [],
      "source": [
        "def switch_to_router(router_ip):\n",
        "  print(f\"Switching to Router {router_ip}\")\n",
        "  print(f\"Switching to Router {router_ip}\")"
      ]
    },
    {
      "cell_type": "markdown",
      "metadata": {
        "id": "Go3tb7dIgtOc"
      },
      "source": [
        "IP Address for Router1, and Router2"
      ]
    },
    {
      "cell_type": "code",
      "execution_count": null,
      "metadata": {
        "colab": {
          "base_uri": "https://localhost:8080/"
        },
        "id": "JeyalfnLgx5k",
        "outputId": "4bfb27b8-f3b9-44c6-f100-69aafdd5ac26"
      },
      "outputs": [
        {
          "output_type": "stream",
          "name": "stdout",
          "text": [
            "Router 1 has active data.\n",
            "Router 1 has active data.\n",
            "Router 1 has active data.\n"
          ]
        }
      ],
      "source": [
        "router1_ip = '192.168.1.1'\n",
        "router2_ip = '192.168.2.1'\n",
        "\n",
        "while True:\n",
        "    if check_router_data(router1_ip):\n",
        "        print(\"Router 1 has active data.\")\n",
        "    else:\n",
        "        print(\"Router 1 has depleted data. Switching to Router 2...\")\n",
        "        switch_to_router(router2_ip)\n",
        "\n",
        "    time.sleep(60)"
      ]
    }
  ],
  "metadata": {
    "colab": {
      "provenance": [],
      "authorship_tag": "ABX9TyMuNUcf89F5yc7UY/5pkYg4",
      "include_colab_link": true
    },
    "kernelspec": {
      "display_name": "Python 3",
      "name": "python3"
    },
    "language_info": {
      "name": "python"
    }
  },
  "nbformat": 4,
  "nbformat_minor": 0
}