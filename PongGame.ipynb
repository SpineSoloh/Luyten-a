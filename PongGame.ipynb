{
  "nbformat": 4,
  "nbformat_minor": 0,
  "metadata": {
    "colab": {
      "provenance": [],
      "authorship_tag": "ABX9TyMJ6jZ3XNh+I1R2fx0pxm1s",
      "include_colab_link": true
    },
    "kernelspec": {
      "name": "python3",
      "display_name": "Python 3"
    },
    "language_info": {
      "name": "python"
    }
  },
  "cells": [
    {
      "cell_type": "markdown",
      "metadata": {
        "id": "view-in-github",
        "colab_type": "text"
      },
      "source": [
        "<a href=\"https://colab.research.google.com/github/SpineSoloh/Luyten-a/blob/main/PongGame.ipynb\" target=\"_parent\"><img src=\"https://colab.research.google.com/assets/colab-badge.svg\" alt=\"Open In Colab\"/></a>"
      ]
    },
    {
      "cell_type": "code",
      "execution_count": 2,
      "metadata": {
        "colab": {
          "base_uri": "https://localhost:8080/",
          "height": 264
        },
        "id": "hfqt0CppIwfZ",
        "outputId": "07b57d74-be63-4e4d-b226-a1cb4df7217e"
      },
      "outputs": [
        {
          "output_type": "stream",
          "name": "stdout",
          "text": [
            "pygame 2.5.0 (SDL 2.28.0, Python 3.10.12)\n",
            "Hello from the pygame community. https://www.pygame.org/contribute.html\n"
          ]
        },
        {
          "output_type": "error",
          "ename": "KeyboardInterrupt",
          "evalue": "ignored",
          "traceback": [
            "\u001b[0;31m---------------------------------------------------------------------------\u001b[0m",
            "\u001b[0;31mKeyboardInterrupt\u001b[0m                         Traceback (most recent call last)",
            "\u001b[0;32m<ipython-input-2-7ba3d64764f2>\u001b[0m in \u001b[0;36m<cell line: 37>\u001b[0;34m()\u001b[0m\n\u001b[1;32m     81\u001b[0m     \u001b[0mpygame\u001b[0m\u001b[0;34m.\u001b[0m\u001b[0mdraw\u001b[0m\u001b[0;34m.\u001b[0m\u001b[0maaline\u001b[0m\u001b[0;34m(\u001b[0m\u001b[0mwindow\u001b[0m\u001b[0;34m,\u001b[0m \u001b[0mWHITE\u001b[0m\u001b[0;34m,\u001b[0m \u001b[0;34m(\u001b[0m\u001b[0mWINDOW_WIDTH\u001b[0m \u001b[0;34m//\u001b[0m \u001b[0;36m2\u001b[0m\u001b[0;34m,\u001b[0m \u001b[0;36m0\u001b[0m\u001b[0;34m)\u001b[0m\u001b[0;34m,\u001b[0m \u001b[0;34m(\u001b[0m\u001b[0mWINDOW_WIDTH\u001b[0m \u001b[0;34m//\u001b[0m \u001b[0;36m2\u001b[0m\u001b[0;34m,\u001b[0m \u001b[0mWINDOW_HEIGHT\u001b[0m\u001b[0;34m)\u001b[0m\u001b[0;34m)\u001b[0m\u001b[0;34m\u001b[0m\u001b[0;34m\u001b[0m\u001b[0m\n\u001b[1;32m     82\u001b[0m \u001b[0;34m\u001b[0m\u001b[0m\n\u001b[0;32m---> 83\u001b[0;31m     \u001b[0mpygame\u001b[0m\u001b[0;34m.\u001b[0m\u001b[0mdisplay\u001b[0m\u001b[0;34m.\u001b[0m\u001b[0mupdate\u001b[0m\u001b[0;34m(\u001b[0m\u001b[0;34m)\u001b[0m\u001b[0;34m\u001b[0m\u001b[0;34m\u001b[0m\u001b[0m\n\u001b[0m\u001b[1;32m     84\u001b[0m     \u001b[0mclock\u001b[0m\u001b[0;34m.\u001b[0m\u001b[0mtick\u001b[0m\u001b[0;34m(\u001b[0m\u001b[0mFPS\u001b[0m\u001b[0;34m)\u001b[0m\u001b[0;34m\u001b[0m\u001b[0;34m\u001b[0m\u001b[0m\n",
            "\u001b[0;31mKeyboardInterrupt\u001b[0m: "
          ]
        }
      ],
      "source": [
        "import random\n",
        "\n",
        "# Initialize Pygame\n",
        "pygame.init()\n",
        "\n",
        "# Constants\n",
        "WINDOW_WIDTH = 800\n",
        "WINDOW_HEIGHT = 600\n",
        "PADDLE_WIDTH = 15\n",
        "PADDLE_HEIGHT = 100\n",
        "BALL_SIZE = 20\n",
        "PADDLE_SPEED = 5\n",
        "BALL_SPEED_X = 5\n",
        "BALL_SPEED_Y = 5\n",
        "FPS = 60\n",
        "\n",
        "# Colors\n",
        "WHITE = (255, 255, 255)\n",
        "BLACK = (0, 0, 0)\n",
        "\n",
        "# Create the game window\n",
        "window = pygame.display.set_mode((WINDOW_WIDTH, WINDOW_HEIGHT))\n",
        "pygame.display.set_caption(\"Pong\")\n",
        "\n",
        "# Create paddles and ball\n",
        "left_paddle = pygame.Rect(50, WINDOW_HEIGHT // 2 - PADDLE_HEIGHT // 2, PADDLE_WIDTH, PADDLE_HEIGHT)\n",
        "right_paddle = pygame.Rect(WINDOW_WIDTH - 50 - PADDLE_WIDTH, WINDOW_HEIGHT // 2 - PADDLE_HEIGHT // 2, PADDLE_WIDTH, PADDLE_HEIGHT)\n",
        "ball = pygame.Rect(WINDOW_WIDTH // 2 - BALL_SIZE // 2, WINDOW_HEIGHT // 2 - BALL_SIZE // 2, BALL_SIZE, BALL_SIZE)\n",
        "\n",
        "# Set initial ball direction\n",
        "ball_speed_x = BALL_SPEED_X * random.choice((1, -1))\n",
        "ball_speed_y = BALL_SPEED_Y * random.choice((1, -1))\n",
        "\n",
        "# Game loop\n",
        "clock = pygame.time.Clock()\n",
        "while True:\n",
        "    for event in pygame.event.get():\n",
        "        if event.type == pygame.QUIT:\n",
        "            pygame.quit()\n",
        "            quit()\n",
        "\n",
        "    # Move paddles\n",
        "    keys = pygame.key.get_pressed()\n",
        "    if keys[pygame.K_w]:\n",
        "        left_paddle.y -= PADDLE_SPEED\n",
        "    if keys[pygame.K_s]:\n",
        "        left_paddle.y += PADDLE_SPEED\n",
        "    if keys[pygame.K_UP]:\n",
        "        right_paddle.y -= PADDLE_SPEED\n",
        "    if keys[pygame.K_DOWN]:\n",
        "        right_paddle.y += PADDLE_SPEED\n",
        "\n",
        "    # Keep paddles within the window\n",
        "    left_paddle.y = max(0, left_paddle.y)\n",
        "    left_paddle.y = min(WINDOW_HEIGHT - PADDLE_HEIGHT, left_paddle.y)\n",
        "    right_paddle.y = max(0, right_paddle.y)\n",
        "    right_paddle.y = min(WINDOW_HEIGHT - PADDLE_HEIGHT, right_paddle.y)\n",
        "\n",
        "    # Move the ball\n",
        "    ball.x += ball_speed_x\n",
        "    ball.y += ball_speed_y\n",
        "\n",
        "    # Ball collision with paddles and top/bottom walls\n",
        "    if ball.colliderect(left_paddle) or ball.colliderect(right_paddle):\n",
        "        ball_speed_x *= -1\n",
        "    if ball.top <= 0 or ball.bottom >= WINDOW_HEIGHT:\n",
        "        ball_speed_y *= -1\n",
        "\n",
        "    # Ball goes out of bounds (scores a point)\n",
        "    if ball.left <= 0 or ball.right >= WINDOW_WIDTH:\n",
        "        ball_speed_x *= -1\n",
        "        ball_speed_y = BALL_SPEED_Y * random.choice((1, -1))\n",
        "        ball = pygame.Rect(WINDOW_WIDTH // 2 - BALL_SIZE // 2, WINDOW_HEIGHT // 2 - BALL_SIZE // 2, BALL_SIZE, BALL_SIZE)\n",
        "\n",
        "    # Draw everything\n",
        "    window.fill(BLACK)\n",
        "    pygame.draw.rect(window, WHITE, left_paddle)\n",
        "    pygame.draw.rect(window, WHITE, right_paddle)\n",
        "    pygame.draw.ellipse(window, WHITE, ball)\n",
        "    pygame.draw.aaline(window, WHITE, (WINDOW_WIDTH // 2, 0), (WINDOW_WIDTH // 2, WINDOW_HEIGHT))\n",
        "\n",
        "    pygame.display.update()\n",
        "    clock.tick(FPS)\n"
      ]
    }
  ]
}