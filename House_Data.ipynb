{
  "nbformat": 4,
  "nbformat_minor": 0,
  "metadata": {
    "colab": {
      "provenance": [],
      "mount_file_id": "1OmNUWw2dt51KJM60tencUG8gNaq-B-SX",
      "authorship_tag": "ABX9TyP3lXRzBoOswRtr2hkqL98T",
      "include_colab_link": true
    },
    "kernelspec": {
      "name": "python3",
      "display_name": "Python 3"
    },
    "language_info": {
      "name": "python"
    }
  },
  "cells": [
    {
      "cell_type": "markdown",
      "metadata": {
        "id": "view-in-github",
        "colab_type": "text"
      },
      "source": [
        "<a href=\"https://colab.research.google.com/github/SpineSoloh/Luyten-a/blob/main/House_Data.ipynb\" target=\"_parent\"><img src=\"https://colab.research.google.com/assets/colab-badge.svg\" alt=\"Open In Colab\"/></a>"
      ]
    },
    {
      "cell_type": "code",
      "execution_count": null,
      "metadata": {
        "id": "BHJgWaViHeVD"
      },
      "outputs": [],
      "source": [
        "import pandas as pd\n",
        "import numpy as np\n",
        "from sklearn.model_selection import train_test_split\n",
        "from sklearn.linear_model import LinearRegression\n",
        "from sklearn.metrics import mean_squared_error\n",
        "from sklearn.metrics import mean_absolute_error"
      ]
    },
    {
      "cell_type": "markdown",
      "source": [
        "# Defining Variable Data_1 and opening a CSV file"
      ],
      "metadata": {
        "id": "obc88mhF2EPm"
      }
    },
    {
      "cell_type": "code",
      "source": [
        "Data_1= pd.read_csv('/content/drive/MyDrive/House-Data.csv')"
      ],
      "metadata": {
        "id": "3yz9w5hpRHSC"
      },
      "execution_count": null,
      "outputs": []
    },
    {
      "cell_type": "code",
      "source": [
        "pd.read_csv('House-Data.csv').head()"
      ],
      "metadata": {
        "colab": {
          "base_uri": "https://localhost:8080/",
          "height": 236
        },
        "id": "bltcYfCHReNB",
        "outputId": "7f6fdc16-d1e4-454e-9389-0870874c6e59"
      },
      "execution_count": null,
      "outputs": [
        {
          "output_type": "execute_result",
          "data": {
            "text/plain": [
              "   Id  MSSubClass MSZoning  LotFrontage  LotArea Street Alley LotShape  \\\n",
              "0   0         160       FV         40.0     3951   Pave  Pave      Reg   \n",
              "1   1          60       RL         78.0    10140   Pave   NaN      Reg   \n",
              "2   2          60       RL         68.0    10769   Pave   NaN      IR1   \n",
              "3   3          20       RL         74.0     5868   Pave   NaN      Reg   \n",
              "4   4          20       RL         80.0    10400   Pave   NaN      Reg   \n",
              "\n",
              "  LandContour Utilities  ... PoolArea PoolQC  Fence MiscFeature MiscVal  \\\n",
              "0         Lvl    AllPub  ...        0    NaN    NaN         NaN       0   \n",
              "1         Lvl    AllPub  ...        0    NaN   GdWo         NaN       0   \n",
              "2         Lvl    AllPub  ...        0    NaN    NaN         NaN       0   \n",
              "3         Lvl    AllPub  ...        0    NaN    NaN         NaN       0   \n",
              "4         Lvl    AllPub  ...        0    NaN  MnPrv         NaN       0   \n",
              "\n",
              "  MoSold YrSold  SaleType  SaleCondition  SalePrice  \n",
              "0      6   2009       New        Partial     164500  \n",
              "1      3   2006        WD         Normal     162900  \n",
              "2      4   2009        WD         Normal     212000  \n",
              "3      5   2010        WD         Normal     129000  \n",
              "4      6   2009        WD         Family     152000  \n",
              "\n",
              "[5 rows x 81 columns]"
            ],
            "text/html": [
              "\n",
              "  <div id=\"df-c7200043-c5ae-4cd1-a487-00f3a364cb6a\">\n",
              "    <div class=\"colab-df-container\">\n",
              "      <div>\n",
              "<style scoped>\n",
              "    .dataframe tbody tr th:only-of-type {\n",
              "        vertical-align: middle;\n",
              "    }\n",
              "\n",
              "    .dataframe tbody tr th {\n",
              "        vertical-align: top;\n",
              "    }\n",
              "\n",
              "    .dataframe thead th {\n",
              "        text-align: right;\n",
              "    }\n",
              "</style>\n",
              "<table border=\"1\" class=\"dataframe\">\n",
              "  <thead>\n",
              "    <tr style=\"text-align: right;\">\n",
              "      <th></th>\n",
              "      <th>Id</th>\n",
              "      <th>MSSubClass</th>\n",
              "      <th>MSZoning</th>\n",
              "      <th>LotFrontage</th>\n",
              "      <th>LotArea</th>\n",
              "      <th>Street</th>\n",
              "      <th>Alley</th>\n",
              "      <th>LotShape</th>\n",
              "      <th>LandContour</th>\n",
              "      <th>Utilities</th>\n",
              "      <th>...</th>\n",
              "      <th>PoolArea</th>\n",
              "      <th>PoolQC</th>\n",
              "      <th>Fence</th>\n",
              "      <th>MiscFeature</th>\n",
              "      <th>MiscVal</th>\n",
              "      <th>MoSold</th>\n",
              "      <th>YrSold</th>\n",
              "      <th>SaleType</th>\n",
              "      <th>SaleCondition</th>\n",
              "      <th>SalePrice</th>\n",
              "    </tr>\n",
              "  </thead>\n",
              "  <tbody>\n",
              "    <tr>\n",
              "      <th>0</th>\n",
              "      <td>0</td>\n",
              "      <td>160</td>\n",
              "      <td>FV</td>\n",
              "      <td>40.0</td>\n",
              "      <td>3951</td>\n",
              "      <td>Pave</td>\n",
              "      <td>Pave</td>\n",
              "      <td>Reg</td>\n",
              "      <td>Lvl</td>\n",
              "      <td>AllPub</td>\n",
              "      <td>...</td>\n",
              "      <td>0</td>\n",
              "      <td>NaN</td>\n",
              "      <td>NaN</td>\n",
              "      <td>NaN</td>\n",
              "      <td>0</td>\n",
              "      <td>6</td>\n",
              "      <td>2009</td>\n",
              "      <td>New</td>\n",
              "      <td>Partial</td>\n",
              "      <td>164500</td>\n",
              "    </tr>\n",
              "    <tr>\n",
              "      <th>1</th>\n",
              "      <td>1</td>\n",
              "      <td>60</td>\n",
              "      <td>RL</td>\n",
              "      <td>78.0</td>\n",
              "      <td>10140</td>\n",
              "      <td>Pave</td>\n",
              "      <td>NaN</td>\n",
              "      <td>Reg</td>\n",
              "      <td>Lvl</td>\n",
              "      <td>AllPub</td>\n",
              "      <td>...</td>\n",
              "      <td>0</td>\n",
              "      <td>NaN</td>\n",
              "      <td>GdWo</td>\n",
              "      <td>NaN</td>\n",
              "      <td>0</td>\n",
              "      <td>3</td>\n",
              "      <td>2006</td>\n",
              "      <td>WD</td>\n",
              "      <td>Normal</td>\n",
              "      <td>162900</td>\n",
              "    </tr>\n",
              "    <tr>\n",
              "      <th>2</th>\n",
              "      <td>2</td>\n",
              "      <td>60</td>\n",
              "      <td>RL</td>\n",
              "      <td>68.0</td>\n",
              "      <td>10769</td>\n",
              "      <td>Pave</td>\n",
              "      <td>NaN</td>\n",
              "      <td>IR1</td>\n",
              "      <td>Lvl</td>\n",
              "      <td>AllPub</td>\n",
              "      <td>...</td>\n",
              "      <td>0</td>\n",
              "      <td>NaN</td>\n",
              "      <td>NaN</td>\n",
              "      <td>NaN</td>\n",
              "      <td>0</td>\n",
              "      <td>4</td>\n",
              "      <td>2009</td>\n",
              "      <td>WD</td>\n",
              "      <td>Normal</td>\n",
              "      <td>212000</td>\n",
              "    </tr>\n",
              "    <tr>\n",
              "      <th>3</th>\n",
              "      <td>3</td>\n",
              "      <td>20</td>\n",
              "      <td>RL</td>\n",
              "      <td>74.0</td>\n",
              "      <td>5868</td>\n",
              "      <td>Pave</td>\n",
              "      <td>NaN</td>\n",
              "      <td>Reg</td>\n",
              "      <td>Lvl</td>\n",
              "      <td>AllPub</td>\n",
              "      <td>...</td>\n",
              "      <td>0</td>\n",
              "      <td>NaN</td>\n",
              "      <td>NaN</td>\n",
              "      <td>NaN</td>\n",
              "      <td>0</td>\n",
              "      <td>5</td>\n",
              "      <td>2010</td>\n",
              "      <td>WD</td>\n",
              "      <td>Normal</td>\n",
              "      <td>129000</td>\n",
              "    </tr>\n",
              "    <tr>\n",
              "      <th>4</th>\n",
              "      <td>4</td>\n",
              "      <td>20</td>\n",
              "      <td>RL</td>\n",
              "      <td>80.0</td>\n",
              "      <td>10400</td>\n",
              "      <td>Pave</td>\n",
              "      <td>NaN</td>\n",
              "      <td>Reg</td>\n",
              "      <td>Lvl</td>\n",
              "      <td>AllPub</td>\n",
              "      <td>...</td>\n",
              "      <td>0</td>\n",
              "      <td>NaN</td>\n",
              "      <td>MnPrv</td>\n",
              "      <td>NaN</td>\n",
              "      <td>0</td>\n",
              "      <td>6</td>\n",
              "      <td>2009</td>\n",
              "      <td>WD</td>\n",
              "      <td>Family</td>\n",
              "      <td>152000</td>\n",
              "    </tr>\n",
              "  </tbody>\n",
              "</table>\n",
              "<p>5 rows × 81 columns</p>\n",
              "</div>\n",
              "      <button class=\"colab-df-convert\" onclick=\"convertToInteractive('df-c7200043-c5ae-4cd1-a487-00f3a364cb6a')\"\n",
              "              title=\"Convert this dataframe to an interactive table.\"\n",
              "              style=\"display:none;\">\n",
              "        \n",
              "  <svg xmlns=\"http://www.w3.org/2000/svg\" height=\"24px\"viewBox=\"0 0 24 24\"\n",
              "       width=\"24px\">\n",
              "    <path d=\"M0 0h24v24H0V0z\" fill=\"none\"/>\n",
              "    <path d=\"M18.56 5.44l.94 2.06.94-2.06 2.06-.94-2.06-.94-.94-2.06-.94 2.06-2.06.94zm-11 1L8.5 8.5l.94-2.06 2.06-.94-2.06-.94L8.5 2.5l-.94 2.06-2.06.94zm10 10l.94 2.06.94-2.06 2.06-.94-2.06-.94-.94-2.06-.94 2.06-2.06.94z\"/><path d=\"M17.41 7.96l-1.37-1.37c-.4-.4-.92-.59-1.43-.59-.52 0-1.04.2-1.43.59L10.3 9.45l-7.72 7.72c-.78.78-.78 2.05 0 2.83L4 21.41c.39.39.9.59 1.41.59.51 0 1.02-.2 1.41-.59l7.78-7.78 2.81-2.81c.8-.78.8-2.07 0-2.86zM5.41 20L4 18.59l7.72-7.72 1.47 1.35L5.41 20z\"/>\n",
              "  </svg>\n",
              "      </button>\n",
              "      \n",
              "  <style>\n",
              "    .colab-df-container {\n",
              "      display:flex;\n",
              "      flex-wrap:wrap;\n",
              "      gap: 12px;\n",
              "    }\n",
              "\n",
              "    .colab-df-convert {\n",
              "      background-color: #E8F0FE;\n",
              "      border: none;\n",
              "      border-radius: 50%;\n",
              "      cursor: pointer;\n",
              "      display: none;\n",
              "      fill: #1967D2;\n",
              "      height: 32px;\n",
              "      padding: 0 0 0 0;\n",
              "      width: 32px;\n",
              "    }\n",
              "\n",
              "    .colab-df-convert:hover {\n",
              "      background-color: #E2EBFA;\n",
              "      box-shadow: 0px 1px 2px rgba(60, 64, 67, 0.3), 0px 1px 3px 1px rgba(60, 64, 67, 0.15);\n",
              "      fill: #174EA6;\n",
              "    }\n",
              "\n",
              "    [theme=dark] .colab-df-convert {\n",
              "      background-color: #3B4455;\n",
              "      fill: #D2E3FC;\n",
              "    }\n",
              "\n",
              "    [theme=dark] .colab-df-convert:hover {\n",
              "      background-color: #434B5C;\n",
              "      box-shadow: 0px 1px 3px 1px rgba(0, 0, 0, 0.15);\n",
              "      filter: drop-shadow(0px 1px 2px rgba(0, 0, 0, 0.3));\n",
              "      fill: #FFFFFF;\n",
              "    }\n",
              "  </style>\n",
              "\n",
              "      <script>\n",
              "        const buttonEl =\n",
              "          document.querySelector('#df-c7200043-c5ae-4cd1-a487-00f3a364cb6a button.colab-df-convert');\n",
              "        buttonEl.style.display =\n",
              "          google.colab.kernel.accessAllowed ? 'block' : 'none';\n",
              "\n",
              "        async function convertToInteractive(key) {\n",
              "          const element = document.querySelector('#df-c7200043-c5ae-4cd1-a487-00f3a364cb6a');\n",
              "          const dataTable =\n",
              "            await google.colab.kernel.invokeFunction('convertToInteractive',\n",
              "                                                     [key], {});\n",
              "          if (!dataTable) return;\n",
              "\n",
              "          const docLinkHtml = 'Like what you see? Visit the ' +\n",
              "            '<a target=\"_blank\" href=https://colab.research.google.com/notebooks/data_table.ipynb>data table notebook</a>'\n",
              "            + ' to learn more about interactive tables.';\n",
              "          element.innerHTML = '';\n",
              "          dataTable['output_type'] = 'display_data';\n",
              "          await google.colab.output.renderOutput(dataTable, element);\n",
              "          const docLink = document.createElement('div');\n",
              "          docLink.innerHTML = docLinkHtml;\n",
              "          element.appendChild(docLink);\n",
              "        }\n",
              "      </script>\n",
              "    </div>\n",
              "  </div>\n",
              "  "
            ]
          },
          "metadata": {},
          "execution_count": 13
        }
      ]
    },
    {
      "cell_type": "code",
      "source": [
        "print(Data_1.describe)\n",
        "print(Data_1.shape)"
      ],
      "metadata": {
        "colab": {
          "base_uri": "https://localhost:8080/"
        },
        "id": "clirDE1sScjd",
        "outputId": "71c40155-f9a2-4264-c4bf-6d424180a210"
      },
      "execution_count": null,
      "outputs": [
        {
          "output_type": "stream",
          "name": "stdout",
          "text": [
            "<bound method NDFrame.describe of         Id  MSSubClass MSZoning  LotFrontage  LotArea Street Alley LotShape  \\\n",
            "0        0         160       FV         40.0     3951   Pave  Pave      Reg   \n",
            "1        1          60       RL         78.0    10140   Pave   NaN      Reg   \n",
            "2        2          60       RL         68.0    10769   Pave   NaN      IR1   \n",
            "3        3          20       RL         74.0     5868   Pave   NaN      Reg   \n",
            "4        4          20       RL         80.0    10400   Pave   NaN      Reg   \n",
            "...    ...         ...      ...          ...      ...    ...   ...      ...   \n",
            "1309  1309          20       RL         80.0     9600   Pave   NaN      Reg   \n",
            "1310  1310          20       RL         60.0     7200   Pave   NaN      Reg   \n",
            "1311  1311          60       RL          NaN     7685   Pave   NaN      IR1   \n",
            "1312  1312          20       RL         70.0    10500   Pave   NaN      Reg   \n",
            "1313  1313          20       RL         83.0    10420   Pave   NaN      Reg   \n",
            "\n",
            "     LandContour Utilities  ... PoolArea PoolQC  Fence MiscFeature MiscVal  \\\n",
            "0            Lvl    AllPub  ...        0    NaN    NaN         NaN       0   \n",
            "1            Lvl    AllPub  ...        0    NaN   GdWo         NaN       0   \n",
            "2            Lvl    AllPub  ...        0    NaN    NaN         NaN       0   \n",
            "3            Lvl    AllPub  ...        0    NaN    NaN         NaN       0   \n",
            "4            Lvl    AllPub  ...        0    NaN  MnPrv         NaN       0   \n",
            "...          ...       ...  ...      ...    ...    ...         ...     ...   \n",
            "1309         Lvl    AllPub  ...        0    NaN    NaN         NaN       0   \n",
            "1310         Lvl    AllPub  ...        0    NaN    NaN         NaN       0   \n",
            "1311         Lvl    AllPub  ...        0    NaN    NaN         NaN       0   \n",
            "1312         Lvl    AllPub  ...        0    NaN    NaN         NaN       0   \n",
            "1313         Lvl    AllPub  ...        0    NaN    NaN         NaN       0   \n",
            "\n",
            "     MoSold YrSold  SaleType  SaleCondition  SalePrice  \n",
            "0         6   2009       New        Partial     164500  \n",
            "1         3   2006        WD         Normal     162900  \n",
            "2         4   2009        WD         Normal     212000  \n",
            "3         5   2010        WD         Normal     129000  \n",
            "4         6   2009        WD         Family     152000  \n",
            "...     ...    ...       ...            ...        ...  \n",
            "1309     10   2009        WD         Normal     167000  \n",
            "1310      7   2008        WD         Normal      98300  \n",
            "1311      5   2006        WD         Normal     165600  \n",
            "1312      4   2010     ConLI         Normal     115000  \n",
            "1313      3   2010        WD         Normal     186000  \n",
            "\n",
            "[1314 rows x 81 columns]>\n",
            "(1314, 81)\n"
          ]
        }
      ]
    },
    {
      "cell_type": "code",
      "source": [],
      "metadata": {
        "id": "t0CusGEYS9OZ"
      },
      "execution_count": null,
      "outputs": []
    },
    {
      "cell_type": "markdown",
      "source": [
        "# Finding Null Values"
      ],
      "metadata": {
        "id": "B00DQYtaTJEC"
      }
    },
    {
      "cell_type": "code",
      "source": [
        "print(Data_1.isnull())\n",
        "print(Data_1.isnull().sum())\n",
        "print(Data_1.isnull().sum().sum())"
      ],
      "metadata": {
        "colab": {
          "base_uri": "https://localhost:8080/"
        },
        "id": "iKMMyAEDTNa5",
        "outputId": "eeeb4187-7e07-4b33-bb05-17d9cc60464a"
      },
      "execution_count": null,
      "outputs": [
        {
          "output_type": "stream",
          "name": "stdout",
          "text": [
            "         Id  MSSubClass  MSZoning  LotFrontage  LotArea  Street  Alley  \\\n",
            "0     False       False     False        False    False   False  False   \n",
            "1     False       False     False        False    False   False   True   \n",
            "2     False       False     False        False    False   False   True   \n",
            "3     False       False     False        False    False   False   True   \n",
            "4     False       False     False        False    False   False   True   \n",
            "...     ...         ...       ...          ...      ...     ...    ...   \n",
            "1309  False       False     False        False    False   False   True   \n",
            "1310  False       False     False        False    False   False   True   \n",
            "1311  False       False     False         True    False   False   True   \n",
            "1312  False       False     False        False    False   False   True   \n",
            "1313  False       False     False        False    False   False   True   \n",
            "\n",
            "      LotShape  LandContour  Utilities  ...  PoolArea  PoolQC  Fence  \\\n",
            "0        False        False      False  ...     False    True   True   \n",
            "1        False        False      False  ...     False    True  False   \n",
            "2        False        False      False  ...     False    True   True   \n",
            "3        False        False      False  ...     False    True   True   \n",
            "4        False        False      False  ...     False    True  False   \n",
            "...        ...          ...        ...  ...       ...     ...    ...   \n",
            "1309     False        False      False  ...     False    True   True   \n",
            "1310     False        False      False  ...     False    True   True   \n",
            "1311     False        False      False  ...     False    True   True   \n",
            "1312     False        False      False  ...     False    True   True   \n",
            "1313     False        False      False  ...     False    True   True   \n",
            "\n",
            "      MiscFeature  MiscVal  MoSold  YrSold  SaleType  SaleCondition  SalePrice  \n",
            "0            True    False   False   False     False          False      False  \n",
            "1            True    False   False   False     False          False      False  \n",
            "2            True    False   False   False     False          False      False  \n",
            "3            True    False   False   False     False          False      False  \n",
            "4            True    False   False   False     False          False      False  \n",
            "...           ...      ...     ...     ...       ...            ...        ...  \n",
            "1309         True    False   False   False     False          False      False  \n",
            "1310         True    False   False   False     False          False      False  \n",
            "1311         True    False   False   False     False          False      False  \n",
            "1312         True    False   False   False     False          False      False  \n",
            "1313         True    False   False   False     False          False      False  \n",
            "\n",
            "[1314 rows x 81 columns]\n",
            "Id                 0\n",
            "MSSubClass         0\n",
            "MSZoning           0\n",
            "LotFrontage      230\n",
            "LotArea            0\n",
            "                ... \n",
            "MoSold             0\n",
            "YrSold             0\n",
            "SaleType           0\n",
            "SaleCondition      0\n",
            "SalePrice          0\n",
            "Length: 81, dtype: int64\n",
            "6272\n"
          ]
        }
      ]
    },
    {
      "cell_type": "markdown",
      "source": [
        "# finding duplicated values"
      ],
      "metadata": {
        "id": "YbRlfzL4ToOZ"
      }
    },
    {
      "cell_type": "code",
      "source": [
        "print(Data_1.duplicated())"
      ],
      "metadata": {
        "colab": {
          "base_uri": "https://localhost:8080/"
        },
        "id": "1KbqXaJgTuJl",
        "outputId": "0fceb872-52ea-4ee6-d429-783e9dfbb405"
      },
      "execution_count": null,
      "outputs": [
        {
          "output_type": "stream",
          "name": "stdout",
          "text": [
            "0       False\n",
            "1       False\n",
            "2       False\n",
            "3       False\n",
            "4       False\n",
            "        ...  \n",
            "1309    False\n",
            "1310    False\n",
            "1311    False\n",
            "1312    False\n",
            "1313    False\n",
            "Length: 1314, dtype: bool\n"
          ]
        }
      ]
    },
    {
      "cell_type": "markdown",
      "source": [
        "# Filling the Null Values"
      ],
      "metadata": {
        "id": "u1gO59k1UFmH"
      }
    },
    {
      "cell_type": "code",
      "source": [
        "Data_2 = (Data_1.fillna(value=0))\n",
        "print(Data_2)"
      ],
      "metadata": {
        "colab": {
          "base_uri": "https://localhost:8080/"
        },
        "id": "TOFFZlIFURa0",
        "outputId": "518d35fd-f297-41b0-c87d-86d570a26002"
      },
      "execution_count": null,
      "outputs": [
        {
          "output_type": "stream",
          "name": "stdout",
          "text": [
            "        Id  MSSubClass MSZoning  LotFrontage  LotArea Street Alley LotShape  \\\n",
            "0        0         160       FV         40.0     3951   Pave  Pave      Reg   \n",
            "1        1          60       RL         78.0    10140   Pave     0      Reg   \n",
            "2        2          60       RL         68.0    10769   Pave     0      IR1   \n",
            "3        3          20       RL         74.0     5868   Pave     0      Reg   \n",
            "4        4          20       RL         80.0    10400   Pave     0      Reg   \n",
            "...    ...         ...      ...          ...      ...    ...   ...      ...   \n",
            "1309  1309          20       RL         80.0     9600   Pave     0      Reg   \n",
            "1310  1310          20       RL         60.0     7200   Pave     0      Reg   \n",
            "1311  1311          60       RL          0.0     7685   Pave     0      IR1   \n",
            "1312  1312          20       RL         70.0    10500   Pave     0      Reg   \n",
            "1313  1313          20       RL         83.0    10420   Pave     0      Reg   \n",
            "\n",
            "     LandContour Utilities  ... PoolArea PoolQC  Fence MiscFeature MiscVal  \\\n",
            "0            Lvl    AllPub  ...        0      0      0           0       0   \n",
            "1            Lvl    AllPub  ...        0      0   GdWo           0       0   \n",
            "2            Lvl    AllPub  ...        0      0      0           0       0   \n",
            "3            Lvl    AllPub  ...        0      0      0           0       0   \n",
            "4            Lvl    AllPub  ...        0      0  MnPrv           0       0   \n",
            "...          ...       ...  ...      ...    ...    ...         ...     ...   \n",
            "1309         Lvl    AllPub  ...        0      0      0           0       0   \n",
            "1310         Lvl    AllPub  ...        0      0      0           0       0   \n",
            "1311         Lvl    AllPub  ...        0      0      0           0       0   \n",
            "1312         Lvl    AllPub  ...        0      0      0           0       0   \n",
            "1313         Lvl    AllPub  ...        0      0      0           0       0   \n",
            "\n",
            "     MoSold YrSold  SaleType  SaleCondition  SalePrice  \n",
            "0         6   2009       New        Partial     164500  \n",
            "1         3   2006        WD         Normal     162900  \n",
            "2         4   2009        WD         Normal     212000  \n",
            "3         5   2010        WD         Normal     129000  \n",
            "4         6   2009        WD         Family     152000  \n",
            "...     ...    ...       ...            ...        ...  \n",
            "1309     10   2009        WD         Normal     167000  \n",
            "1310      7   2008        WD         Normal      98300  \n",
            "1311      5   2006        WD         Normal     165600  \n",
            "1312      4   2010     ConLI         Normal     115000  \n",
            "1313      3   2010        WD         Normal     186000  \n",
            "\n",
            "[1314 rows x 81 columns]\n"
          ]
        }
      ]
    },
    {
      "cell_type": "markdown",
      "source": [
        "# checking if data_2 with null value is filled with 0"
      ],
      "metadata": {
        "id": "KsKDD_XUUpkV"
      }
    },
    {
      "cell_type": "code",
      "source": [
        "\n",
        "print(Data_2.isnull().sum().sum)"
      ],
      "metadata": {
        "colab": {
          "base_uri": "https://localhost:8080/"
        },
        "id": "wnUSqAe3Uvu7",
        "outputId": "500e96aa-7fd9-4b15-9fb3-818bac2543a9"
      },
      "execution_count": null,
      "outputs": [
        {
          "output_type": "stream",
          "name": "stdout",
          "text": [
            "<bound method NDFrame._add_numeric_operations.<locals>.sum of Id               0\n",
            "MSSubClass       0\n",
            "MSZoning         0\n",
            "LotFrontage      0\n",
            "LotArea          0\n",
            "                ..\n",
            "MoSold           0\n",
            "YrSold           0\n",
            "SaleType         0\n",
            "SaleCondition    0\n",
            "SalePrice        0\n",
            "Length: 81, dtype: int64>\n"
          ]
        }
      ]
    },
    {
      "cell_type": "markdown",
      "source": [
        "# splitting data into dependent and independent variables"
      ],
      "metadata": {
        "id": "AhvbS0KXVl6c"
      }
    },
    {
      "cell_type": "code",
      "source": [
        "X = Data_1.iloc[:,1:4]\n",
        "Y = Data_1.iloc[:,5]\n",
        "print(x)\n",
        "print(Y)"
      ],
      "metadata": {
        "colab": {
          "base_uri": "https://localhost:8080/"
        },
        "id": "SB1gBctMVoZ1",
        "outputId": "e13b7407-2be7-4122-f324-4040e31d3883"
      },
      "execution_count": null,
      "outputs": [
        {
          "output_type": "stream",
          "name": "stdout",
          "text": [
            "      MSSubClass MSZoning  LotFrontage\n",
            "0            160       FV         40.0\n",
            "1             60       RL         78.0\n",
            "2             60       RL         68.0\n",
            "3             20       RL         74.0\n",
            "4             20       RL         80.0\n",
            "...          ...      ...          ...\n",
            "1309          20       RL         80.0\n",
            "1310          20       RL         60.0\n",
            "1311          60       RL          NaN\n",
            "1312          20       RL         70.0\n",
            "1313          20       RL         83.0\n",
            "\n",
            "[1314 rows x 3 columns]\n",
            "0       Pave\n",
            "1       Pave\n",
            "2       Pave\n",
            "3       Pave\n",
            "4       Pave\n",
            "        ... \n",
            "1309    Pave\n",
            "1310    Pave\n",
            "1311    Pave\n",
            "1312    Pave\n",
            "1313    Pave\n",
            "Name: Street, Length: 1314, dtype: object\n"
          ]
        }
      ]
    },
    {
      "cell_type": "code",
      "source": [
        "X_train, X_test, Y_train, Y_test_split(X,Y, test_size = 0.2, random_state = 100)"
      ],
      "metadata": {
        "colab": {
          "base_uri": "https://localhost:8080/",
          "height": 172
        },
        "id": "wewsH7LFV4e6",
        "outputId": "d08e5c35-962f-4e91-ef90-b96818f8fbb5"
      },
      "execution_count": null,
      "outputs": [
        {
          "output_type": "error",
          "ename": "NameError",
          "evalue": "ignored",
          "traceback": [
            "\u001b[0;31m---------------------------------------------------------------------------\u001b[0m",
            "\u001b[0;31mNameError\u001b[0m                                 Traceback (most recent call last)",
            "\u001b[0;32m<ipython-input-7-fec402ec4806>\u001b[0m in \u001b[0;36m<cell line: 1>\u001b[0;34m()\u001b[0m\n\u001b[0;32m----> 1\u001b[0;31m \u001b[0mx_train\u001b[0m\u001b[0;34m,\u001b[0m \u001b[0mx_test\u001b[0m\u001b[0;34m,\u001b[0m \u001b[0mY_train\u001b[0m\u001b[0;34m,\u001b[0m \u001b[0mY_test_split\u001b[0m\u001b[0;34m(\u001b[0m\u001b[0mx\u001b[0m\u001b[0;34m,\u001b[0m\u001b[0mY\u001b[0m\u001b[0;34m,\u001b[0m \u001b[0mtest_size\u001b[0m \u001b[0;34m=\u001b[0m \u001b[0;36m0.2\u001b[0m\u001b[0;34m,\u001b[0m \u001b[0mrandom_state\u001b[0m \u001b[0;34m=\u001b[0m \u001b[0;36m100\u001b[0m\u001b[0;34m)\u001b[0m\u001b[0;34m\u001b[0m\u001b[0;34m\u001b[0m\u001b[0m\n\u001b[0m",
            "\u001b[0;31mNameError\u001b[0m: name 'x_train' is not defined"
          ]
        }
      ]
    },
    {
      "cell_type": "markdown",
      "source": [
        "# import data (y, predictor)"
      ],
      "metadata": {
        "id": "MsGOcItqWTP0"
      }
    },
    {
      "cell_type": "code",
      "source": [
        "from sklearn.preprocessing import LabelEncoder\n",
        "y = np.array(Data_1['SaleCondition'])\n",
        "print(y.shape)\n",
        "print(type(y))\n",
        "label_encoder= LabelEncoder()\n",
        "y= label_encoder.fit_transform(Data_1['SaleCondition'])"
      ],
      "metadata": {
        "colab": {
          "base_uri": "https://localhost:8080/"
        },
        "id": "sPALIDy5WUyk",
        "outputId": "86cdeda9-9acf-4975-ef38-a1c9f5677dec"
      },
      "execution_count": null,
      "outputs": [
        {
          "output_type": "stream",
          "name": "stdout",
          "text": [
            "(1314,)\n",
            "<class 'numpy.ndarray'>\n"
          ]
        }
      ]
    },
    {
      "cell_type": "markdown",
      "source": [
        "# splitting Dataset"
      ],
      "metadata": {
        "id": "BhIFXMaWY0ML"
      }
    },
    {
      "cell_type": "code",
      "source": [
        "x_train, x_test, y_train, y_test = train_test_split(Data_1['MSSubClass'], y, test_size=0.2, random_state=42)\n",
        "print(x_train.shape)\n",
        "print(x_test.shape)\n",
        "print(y.shape)\n",
        "print(y_train.shape)\n",
        "print(y_test.shape)\n",
        "\n",
        "x_train= x_train.values.reshape(-1,1)\n",
        "x_test= x_test.values.reshape(-1,1)"
      ],
      "metadata": {
        "colab": {
          "base_uri": "https://localhost:8080/"
        },
        "id": "O0Dn2uQzYo90",
        "outputId": "bb27fbb3-c479-42b6-cb42-478ead94e9e8"
      },
      "execution_count": null,
      "outputs": [
        {
          "output_type": "stream",
          "name": "stdout",
          "text": [
            "(1051,)\n",
            "(263,)\n",
            "(1314,)\n",
            "(1051,)\n",
            "(263,)\n"
          ]
        }
      ]
    },
    {
      "cell_type": "markdown",
      "source": [
        "# Linear regression"
      ],
      "metadata": {
        "id": "iWtO8MeDY8vL"
      }
    },
    {
      "cell_type": "code",
      "source": [
        "lr= LinearRegression()\n",
        "lrModel= lr.fit(x_train, y_train)"
      ],
      "metadata": {
        "id": "7tfdJdOkZCrr"
      },
      "execution_count": null,
      "outputs": []
    },
    {
      "cell_type": "markdown",
      "source": [
        "# Our Y prediction"
      ],
      "metadata": {
        "id": "kcOVN-QQZY8m"
      }
    },
    {
      "cell_type": "code",
      "source": [
        "y_prediction= lrModel.predict(x_test)\n",
        "print(y_prediction)\n",
        "\n",
        "print(y_prediction.mean())"
      ],
      "metadata": {
        "colab": {
          "base_uri": "https://localhost:8080/"
        },
        "id": "UpP_0Wu3ZaQ0",
        "outputId": "28234e80-f50c-46ce-de30-e8ba75140d95"
      },
      "execution_count": null,
      "outputs": [
        {
          "output_type": "stream",
          "name": "stdout",
          "text": [
            "[3.80032562 3.77291049 3.78935957 3.78113503 3.78935957 3.78935957\n",
            " 3.78113503 3.80032562 3.80032562 3.79210108 3.79210108 3.80032562\n",
            " 3.79210108 3.78935957 3.80032562 3.79758411 3.77291049 3.80032562\n",
            " 3.80032562 3.78935957 3.78935957 3.80032562 3.79210108 3.78935957\n",
            " 3.80032562 3.80032562 3.80032562 3.77291049 3.78935957 3.80032562\n",
            " 3.78935957 3.79758411 3.75371989 3.79210108 3.78935957 3.80032562\n",
            " 3.79758411 3.78935957 3.80032562 3.78661805 3.80032562 3.80032562\n",
            " 3.78935957 3.80032562 3.77291049 3.78935957 3.77291049 3.77291049\n",
            " 3.77291049 3.79210108 3.80032562 3.80032562 3.79210108 3.80032562\n",
            " 3.78387654 3.80032562 3.7852473  3.78387654 3.78935957 3.80032562\n",
            " 3.79210108 3.80032562 3.80032562 3.78387654 3.80032562 3.78935957\n",
            " 3.75646141 3.78387654 3.77291049 3.80032562 3.80032562 3.78935957\n",
            " 3.80032562 3.76194443 3.78935957 3.79758411 3.80032562 3.80032562\n",
            " 3.78935957 3.77291049 3.78661805 3.79210108 3.78935957 3.79210108\n",
            " 3.79210108 3.78935957 3.78661805 3.78661805 3.77291049 3.80032562\n",
            " 3.80032562 3.79210108 3.78113503 3.80032562 3.78935957 3.78935957\n",
            " 3.78935957 3.78935957 3.77291049 3.79210108 3.79210108 3.80032562\n",
            " 3.78935957 3.80032562 3.78935957 3.78935957 3.79758411 3.78935957\n",
            " 3.79210108 3.75646141 3.78935957 3.78250578 3.80032562 3.77291049\n",
            " 3.80032562 3.80032562 3.80032562 3.79210108 3.80032562 3.80032562\n",
            " 3.80032562 3.78935957 3.80032562 3.78935957 3.77291049 3.80032562\n",
            " 3.80032562 3.78935957 3.78935957 3.78935957 3.80032562 3.77291049\n",
            " 3.79210108 3.79210108 3.78935957 3.79210108 3.79758411 3.78935957\n",
            " 3.80032562 3.79210108 3.78935957 3.77291049 3.80032562 3.78387654\n",
            " 3.80032562 3.78935957 3.78935957 3.76194443 3.78935957 3.78387654\n",
            " 3.78387654 3.78935957 3.79758411 3.80032562 3.77291049 3.78935957\n",
            " 3.80032562 3.80032562 3.78661805 3.80032562 3.76194443 3.77291049\n",
            " 3.80032562 3.80032562 3.79210108 3.80032562 3.78935957 3.78935957\n",
            " 3.78935957 3.80032562 3.75646141 3.80032562 3.78661805 3.79210108\n",
            " 3.80032562 3.80032562 3.78935957 3.80032562 3.78935957 3.80032562\n",
            " 3.78661805 3.79210108 3.78113503 3.79210108 3.77291049 3.7852473\n",
            " 3.80032562 3.78661805 3.78935957 3.80032562 3.80032562 3.76194443\n",
            " 3.78113503 3.77291049 3.75371989 3.75371989 3.80032562 3.80032562\n",
            " 3.80032562 3.78113503 3.79210108 3.79758411 3.78935957 3.80032562\n",
            " 3.77291049 3.76194443 3.80032562 3.80032562 3.78935957 3.76194443\n",
            " 3.80032562 3.78387654 3.80032562 3.80032562 3.78935957 3.78250578\n",
            " 3.76194443 3.79758411 3.77291049 3.80032562 3.78113503 3.79758411\n",
            " 3.7852473  3.78250578 3.78113503 3.77291049 3.78113503 3.7852473\n",
            " 3.78661805 3.77291049 3.79210108 3.80032562 3.78387654 3.78935957\n",
            " 3.80032562 3.80032562 3.78935957 3.80032562 3.80032562 3.80032562\n",
            " 3.75371989 3.80032562 3.79758411 3.78387654 3.80032562 3.80032562\n",
            " 3.78661805 3.78661805 3.78113503 3.80032562 3.78661805 3.78935957\n",
            " 3.80032562 3.77291049 3.79210108 3.80032562 3.78250578 3.79210108\n",
            " 3.80032562 3.78935957 3.78387654 3.75371989 3.80032562]\n",
            "3.789588896586402\n"
          ]
        }
      ]
    },
    {
      "cell_type": "markdown",
      "source": [
        "# Mean Absolute Error"
      ],
      "metadata": {
        "id": "GV3FJ3mNZka-"
      }
    },
    {
      "cell_type": "code",
      "source": [
        "MeanAbErr= mean_absolute_error(y_test, y_prediction)\n",
        "MeanSqErr= mean_squared_error(y_test, y_prediction)\n",
        "print(f'MeanAbErr: {MeanAbErr},MeanSqErr:{MeanSqErr}') # For Linear regression model"
      ],
      "metadata": {
        "colab": {
          "base_uri": "https://localhost:8080/"
        },
        "id": "G8w204tnZl0U",
        "outputId": "33fb3132-e4c2-4c68-d68b-496d4b6fe8ec"
      },
      "execution_count": null,
      "outputs": [
        {
          "output_type": "stream",
          "name": "stdout",
          "text": [
            "MeanAbErr: 0.6018275294527937,MeanSqErr:1.3971663390580027\n"
          ]
        }
      ]
    },
    {
      "cell_type": "markdown",
      "source": [
        "# Evaluating r2 Score"
      ],
      "metadata": {
        "id": "IZMKZoysZ6zK"
      }
    },
    {
      "cell_type": "code",
      "source": [
        "y_test_mean= np.full(len(y_test), y_test.mean()) # We are filling an array with y_test mean\n",
        "print(y_test_mean)"
      ],
      "metadata": {
        "colab": {
          "base_uri": "https://localhost:8080/"
        },
        "id": "xmaVkx90Z8v0",
        "outputId": "a13ec478-1d78-4f14-8f89-69fefa68e080"
      },
      "execution_count": null,
      "outputs": [
        {
          "output_type": "stream",
          "name": "stdout",
          "text": [
            "[3.69581749 3.69581749 3.69581749 3.69581749 3.69581749 3.69581749\n",
            " 3.69581749 3.69581749 3.69581749 3.69581749 3.69581749 3.69581749\n",
            " 3.69581749 3.69581749 3.69581749 3.69581749 3.69581749 3.69581749\n",
            " 3.69581749 3.69581749 3.69581749 3.69581749 3.69581749 3.69581749\n",
            " 3.69581749 3.69581749 3.69581749 3.69581749 3.69581749 3.69581749\n",
            " 3.69581749 3.69581749 3.69581749 3.69581749 3.69581749 3.69581749\n",
            " 3.69581749 3.69581749 3.69581749 3.69581749 3.69581749 3.69581749\n",
            " 3.69581749 3.69581749 3.69581749 3.69581749 3.69581749 3.69581749\n",
            " 3.69581749 3.69581749 3.69581749 3.69581749 3.69581749 3.69581749\n",
            " 3.69581749 3.69581749 3.69581749 3.69581749 3.69581749 3.69581749\n",
            " 3.69581749 3.69581749 3.69581749 3.69581749 3.69581749 3.69581749\n",
            " 3.69581749 3.69581749 3.69581749 3.69581749 3.69581749 3.69581749\n",
            " 3.69581749 3.69581749 3.69581749 3.69581749 3.69581749 3.69581749\n",
            " 3.69581749 3.69581749 3.69581749 3.69581749 3.69581749 3.69581749\n",
            " 3.69581749 3.69581749 3.69581749 3.69581749 3.69581749 3.69581749\n",
            " 3.69581749 3.69581749 3.69581749 3.69581749 3.69581749 3.69581749\n",
            " 3.69581749 3.69581749 3.69581749 3.69581749 3.69581749 3.69581749\n",
            " 3.69581749 3.69581749 3.69581749 3.69581749 3.69581749 3.69581749\n",
            " 3.69581749 3.69581749 3.69581749 3.69581749 3.69581749 3.69581749\n",
            " 3.69581749 3.69581749 3.69581749 3.69581749 3.69581749 3.69581749\n",
            " 3.69581749 3.69581749 3.69581749 3.69581749 3.69581749 3.69581749\n",
            " 3.69581749 3.69581749 3.69581749 3.69581749 3.69581749 3.69581749\n",
            " 3.69581749 3.69581749 3.69581749 3.69581749 3.69581749 3.69581749\n",
            " 3.69581749 3.69581749 3.69581749 3.69581749 3.69581749 3.69581749\n",
            " 3.69581749 3.69581749 3.69581749 3.69581749 3.69581749 3.69581749\n",
            " 3.69581749 3.69581749 3.69581749 3.69581749 3.69581749 3.69581749\n",
            " 3.69581749 3.69581749 3.69581749 3.69581749 3.69581749 3.69581749\n",
            " 3.69581749 3.69581749 3.69581749 3.69581749 3.69581749 3.69581749\n",
            " 3.69581749 3.69581749 3.69581749 3.69581749 3.69581749 3.69581749\n",
            " 3.69581749 3.69581749 3.69581749 3.69581749 3.69581749 3.69581749\n",
            " 3.69581749 3.69581749 3.69581749 3.69581749 3.69581749 3.69581749\n",
            " 3.69581749 3.69581749 3.69581749 3.69581749 3.69581749 3.69581749\n",
            " 3.69581749 3.69581749 3.69581749 3.69581749 3.69581749 3.69581749\n",
            " 3.69581749 3.69581749 3.69581749 3.69581749 3.69581749 3.69581749\n",
            " 3.69581749 3.69581749 3.69581749 3.69581749 3.69581749 3.69581749\n",
            " 3.69581749 3.69581749 3.69581749 3.69581749 3.69581749 3.69581749\n",
            " 3.69581749 3.69581749 3.69581749 3.69581749 3.69581749 3.69581749\n",
            " 3.69581749 3.69581749 3.69581749 3.69581749 3.69581749 3.69581749\n",
            " 3.69581749 3.69581749 3.69581749 3.69581749 3.69581749 3.69581749\n",
            " 3.69581749 3.69581749 3.69581749 3.69581749 3.69581749 3.69581749\n",
            " 3.69581749 3.69581749 3.69581749 3.69581749 3.69581749 3.69581749\n",
            " 3.69581749 3.69581749 3.69581749 3.69581749 3.69581749 3.69581749\n",
            " 3.69581749 3.69581749 3.69581749 3.69581749 3.69581749 3.69581749\n",
            " 3.69581749 3.69581749 3.69581749 3.69581749 3.69581749]\n"
          ]
        }
      ]
    },
    {
      "cell_type": "markdown",
      "source": [
        "#END"
      ],
      "metadata": {
        "id": "ESDSB40v4uiO"
      }
    }
  ]
}