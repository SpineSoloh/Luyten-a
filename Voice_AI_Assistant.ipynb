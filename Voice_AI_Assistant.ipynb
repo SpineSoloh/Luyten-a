{
  "nbformat": 4,
  "nbformat_minor": 0,
  "metadata": {
    "colab": {
      "provenance": [],
      "authorship_tag": "ABX9TyPW6YDdiWaSzFH6TbRILRnx",
      "include_colab_link": true
    },
    "kernelspec": {
      "name": "python3",
      "display_name": "Python 3"
    },
    "language_info": {
      "name": "python"
    }
  },
  "cells": [
    {
      "cell_type": "markdown",
      "metadata": {
        "id": "view-in-github",
        "colab_type": "text"
      },
      "source": [
        "<a href=\"https://colab.research.google.com/github/SpineSoloh/Luyten-a/blob/main/Voice_AI_Assistant.ipynb\" target=\"_parent\"><img src=\"https://colab.research.google.com/assets/colab-badge.svg\" alt=\"Open In Colab\"/></a>"
      ]
    },
    {
      "cell_type": "code",
      "execution_count": null,
      "metadata": {
        "id": "-FZ8M5yIu2XZ"
      },
      "outputs": [],
      "source": [
        "import wikipedia\n",
        "import speech_recognition as sr\n",
        "from datetime import datetime\n",
        "import webbrowser\n",
        "import pyttsx3\n",
        "import wolframalpha\n",
        "import pyaudio\n",
        "\n",
        "engine = pyttsx3.init()\n",
        "voices = engine.getProperty('voices')\n",
        "engine.setProperty('voice', voices[1].id)\n",
        "activation_word = 'computer'\n",
        "\n",
        "def speak(text, rate=120):\n",
        "    engine.setProperty('rate', rate)\n",
        "    engine.say(text)\n",
        "    engine.runAndWait()\n",
        "\n",
        "def parse_command():\n",
        "    listener = sr.Recognizer()\n",
        "    print('Listening for a command')\n",
        "\n",
        "    with sr.Microphone() as source:\n",
        "        listener.pause_threshold = 2\n",
        "        input_speech = listener.listen(source)\n",
        "\n",
        "    try:\n",
        "        print('Recognizing speech...')\n",
        "        query = listener.recognize_google(input_speech, language='en-GB')\n",
        "        print(f'The input speech: {query}')\n",
        "    except Exception as exception:\n",
        "        print('I did not understand that')\n",
        "        speak('I did not understand that')\n",
        "        print(exception)\n",
        "        return 'None'\n",
        "\n",
        "    return query\n",
        "\n",
        "if __name__ == '__main__':\n",
        "    speak('Kisumu city welcomes you all')\n",
        "\n",
        "    while True:\n",
        "        query = parse_command().lower().split()\n",
        "\n",
        "        if query and query[0] == activation_word:\n",
        "            query.pop(0)\n",
        "\n",
        "            if query:\n",
        "                command = query[0]\n",
        "\n",
        "                if command == 'say':\n",
        "                    if 'hello' in query:\n",
        "                        speak('Greetings, all')\n",
        "                    elif 'goodbye' in query:\n",
        "                        speak('Goodbye!')\n",
        "                elif command == 'search':\n",
        "                    # Combine the remaining words in the query to form the search query\n",
        "                    search_query = ' '.join(query[1:])\n",
        "                    webbrowser.open(f'https://www.google.com/search?q={search_query}')\n",
        "                elif command == 'time':\n",
        "                    now = datetime.now()\n",
        "                    current_time = now.strftime('%H:%M:%S')\n",
        "                    speak(f'The current time is {current_time}')\n",
        "                elif command == 'wikipedia':\n",
        "                    # Extract the topic from the query\n",
        "                    topic = ' '.join(query[1:])\n",
        "                    try:\n",
        "                        result = wikipedia.summary(topic, sentences=2)\n",
        "                        speak(f'Here is a summary of {topic}: {result}')\n",
        "                    except wikipedia.exceptions.DisambiguationError as e:\n",
        "                        speak(f'There are multiple possible topics for {topic}. Please specify.')\n",
        "                    except wikipedia.exceptions.PageError as e:\n",
        "                        speak(f'Sorry, I could not find any information on {topic}.')\n",
        "                elif command == 'calculate':\n",
        "                    # Combine the remaining words in the query to form the calculation\n",
        "                    calculation = ' '.join(query[1:])\n",
        "                    try:\n",
        "                        client = wolframalpha.Client('WOLFRAM_ALPHA_API_KEY')\n",
        "                        res = client.query(calculation)\n",
        "                        answer = next(res.results).text\n",
        "                        speak(f'The answer is {answer}')\n",
        "                    except Exception as e:\n",
        "                        speak('Sorry, I could not perform the calculation.')\n"
      ]
    }
  ]
}